{
 "cells": [
  {
   "cell_type": "markdown",
   "id": "c53c5257",
   "metadata": {},
   "source": [
    "# Mutation and concurrency"
   ]
  },
  {
   "cell_type": "code",
   "execution_count": 11,
   "id": "77d6144e",
   "metadata": {},
   "outputs": [
    {
     "data": {
      "text/plain": [
       "#'user/initial-board"
      ]
     },
     "execution_count": 11,
     "metadata": {},
     "output_type": "execute_result"
    }
   ],
   "source": [
    "(def initial-board\n",
    "      [[:- :k :-]\n",
    "      [:- :- :-]\n",
    "      [:- :K :-]])"
   ]
  },
  {
   "cell_type": "code",
   "execution_count": 12,
   "id": "7c77431f",
   "metadata": {},
   "outputs": [
    {
     "data": {
      "text/plain": [
       "#'user/board-map"
      ]
     },
     "execution_count": 12,
     "metadata": {},
     "output_type": "execute_result"
    }
   ],
   "source": [
    "(defn board-map [f board]\n",
    "  (vec (map #(vec (for [s %] (f s))) \n",
    "            board)))"
   ]
  },
  {
   "cell_type": "code",
   "execution_count": 13,
   "id": "fd134c4d",
   "metadata": {},
   "outputs": [
    {
     "data": {
      "text/plain": [
       "#'user/reset-board!"
      ]
     },
     "execution_count": 13,
     "metadata": {},
     "output_type": "execute_result"
    }
   ],
   "source": [
    "(defn reset-board!\n",
    "  \"Resets the board state.  Generally these types of functions are a\n",
    "   bad idea, but matters of page count force our hand.\"\n",
    "  []\n",
    "  (def board (board-map ref initial-board))\n",
    "  (def to-move (ref [[:K [2 1]] [:k [0 1]]]))\n",
    "  (def num-moves (ref 0)))"
   ]
  },
  {
   "cell_type": "code",
   "execution_count": 7,
   "id": "ef615196",
   "metadata": {},
   "outputs": [
    {
     "data": {
      "text/plain": [
       "#'user/neighbors"
      ]
     },
     "execution_count": 7,
     "metadata": {},
     "output_type": "execute_result"
    }
   ],
   "source": [
    "(defn neighbors\n",
    "  ([size yx] (neighbors [[-1 0] [1 0] [0 -1] [0 1]]\n",
    "                        size yx))\n",
    "  ([deltas size yx]\n",
    "     (filter (fn [new-yx]\n",
    "                (every? #(< -1 % size) new-yx))\n",
    "                (map #(vec (map + yx %))\n",
    "                      deltas))))\n",
    "\n"
   ]
  },
  {
   "cell_type": "code",
   "execution_count": 8,
   "id": "5ee7185e",
   "metadata": {},
   "outputs": [
    {
     "data": {
      "text/plain": [
       "#'user/king-moves"
      ]
     },
     "execution_count": 8,
     "metadata": {},
     "output_type": "execute_result"
    }
   ],
   "source": [
    "(def king-moves\n",
    "  (partial neighbors \n",
    "           [[-1 -1] [-1 0] [-1 1] [0 -1] [0 1] [1 -1] [1 0] [1 1]] 3))"
   ]
  },
  {
   "cell_type": "code",
   "execution_count": 14,
   "id": "3780033f",
   "metadata": {},
   "outputs": [
    {
     "data": {
      "text/plain": [
       "#'user/good-move?"
      ]
     },
     "execution_count": 14,
     "metadata": {},
     "output_type": "execute_result"
    }
   ],
   "source": [
    "(defn good-move?\n",
    "  [to enemy-sq]\n",
    "  (when (not= to enemy-sq) to))"
   ]
  },
  {
   "cell_type": "code",
   "execution_count": 10,
   "id": "e9055f7d",
   "metadata": {},
   "outputs": [
    {
     "data": {
      "text/plain": [
       "#'user/choose-move"
      ]
     },
     "execution_count": 10,
     "metadata": {},
     "output_type": "execute_result"
    }
   ],
   "source": [
    "(defn choose-move\n",
    "  \"Randomly choose a legal move\"\n",
    "  [[[mover mpos] [_ enemy-pos]]]\n",
    "  [mover (some #(good-move? % enemy-pos)\n",
    "                (shuffle (king-moves mpos)))])"
   ]
  },
  {
   "cell_type": "code",
   "execution_count": 21,
   "id": "da14b4e7",
   "metadata": {},
   "outputs": [
    {
     "data": {
      "text/plain": [
       "([:K [1 0]] [:K [1 1]] [:K [1 2]] [:K [1 0]] [:K [1 0]])"
      ]
     },
     "execution_count": 21,
     "metadata": {},
     "output_type": "execute_result"
    }
   ],
   "source": [
    "(reset-board!)\n",
    "(take 5 (repeatedly #(choose-move @to-move)))"
   ]
  },
  {
   "cell_type": "code",
   "execution_count": 23,
   "id": "bb04df4f",
   "metadata": {},
   "outputs": [
    {
     "data": {
      "text/plain": [
       "#'user/make-move"
      ]
     },
     "execution_count": 23,
     "metadata": {},
     "output_type": "execute_result"
    }
   ],
   "source": [
    "(defn place [from to] to)\n",
    "\n",
    "(defn move-piece [[piece dest] [[_ src] _]]\n",
    "  (alter (get-in board dest) place piece)\n",
    "   (alter (get-in board src ) place :-)\n",
    "  (alter num-moves inc))\n",
    "\n",
    "(defn update-to-move [move]\n",
    "  (alter to-move #(vector (second %) move)))\n",
    "\n",
    "(defn make-move []\n",
    "  (let [move (choose-move @to-move)]\n",
    "    (dosync (move-piece move @to-move))\n",
    "    (dosync (update-to-move move))))"
   ]
  },
  {
   "cell_type": "code",
   "execution_count": 33,
   "id": "1378070e",
   "metadata": {},
   "outputs": [
    {
     "data": {
      "text/plain": [
       "[[:K [1 1]] [:k [0 0]]]"
      ]
     },
     "execution_count": 33,
     "metadata": {},
     "output_type": "execute_result"
    }
   ],
   "source": [
    "(make-move)"
   ]
  },
  {
   "cell_type": "code",
   "execution_count": 35,
   "id": "92e63d19",
   "metadata": {},
   "outputs": [
    {
     "data": {},
     "execution_count": 35,
     "metadata": {},
     "output_type": "execute_result"
    }
   ],
   "source": [
    "; STM doesn't have locking mechanism but instead any concurrent transaction will check if it conflicts with other transaction before commit \n",
    "; Incase of conflict, it 'll retry"
   ]
  },
  {
   "cell_type": "markdown",
   "id": "ff049eeb",
   "metadata": {},
   "source": [
    "# Var"
   ]
  },
  {
   "cell_type": "code",
   "execution_count": 37,
   "id": "f0934853",
   "metadata": {},
   "outputs": [
    {
     "data": {
      "text/plain": [
       "#'user/print-read-eval"
      ]
     },
     "execution_count": 37,
     "metadata": {},
     "output_type": "execute_result"
    }
   ],
   "source": [
    "(defn print-read-eval []\n",
    "  (println \"*read-eval* is currently\" *read-eval*))"
   ]
  },
  {
   "cell_type": "code",
   "execution_count": 38,
   "id": "5188c44a",
   "metadata": {},
   "outputs": [
    {
     "data": {
      "text/plain": [
       "#'user/binding-play"
      ]
     },
     "execution_count": 38,
     "metadata": {},
     "output_type": "execute_result"
    }
   ],
   "source": [
    "(defn binding-play []\n",
    "  (print-read-eval)\n",
    "  (binding [*read-eval* false]\n",
    "    (print-read-eval))\n",
    "  (print-read-eval))"
   ]
  },
  {
   "cell_type": "code",
   "execution_count": 40,
   "id": "c77985b3",
   "metadata": {},
   "outputs": [
    {
     "name": "stdout",
     "output_type": "stream",
     "text": [
      "*read-eval* is currently true\n",
      "*read-eval* is currently false\n",
      "*read-eval* is currently true\n"
     ]
    },
    {
     "data": {
      "text/plain": [
       "nil"
      ]
     },
     "execution_count": 40,
     "metadata": {},
     "output_type": "execute_result"
    }
   ],
   "source": [
    "(binding-play)"
   ]
  },
  {
   "cell_type": "code",
   "execution_count": 56,
   "id": "d6b6d11f",
   "metadata": {},
   "outputs": [
    {
     "data": {
      "text/plain": [
       "#'user/ngoc"
      ]
     },
     "execution_count": 56,
     "metadata": {},
     "output_type": "execute_result"
    }
   ],
   "source": [
    "; Create a far\n",
    "(def ^:dynamic ngoc \"dep trai\")"
   ]
  },
  {
   "cell_type": "code",
   "execution_count": 57,
   "id": "970f7ad8",
   "metadata": {},
   "outputs": [
    {
     "data": {
      "text/plain": [
       "\"dep trai\""
      ]
     },
     "execution_count": 57,
     "metadata": {},
     "output_type": "execute_result"
    }
   ],
   "source": [
    "ngoc"
   ]
  },
  {
   "cell_type": "code",
   "execution_count": 58,
   "id": "1b4cffe4",
   "metadata": {},
   "outputs": [
    {
     "data": {
      "text/plain": [
       "#'user/ngoc"
      ]
     },
     "execution_count": 58,
     "metadata": {},
     "output_type": "execute_result"
    }
   ],
   "source": [
    "; to access the var instead of its value\n",
    "#'ngoc"
   ]
  },
  {
   "cell_type": "code",
   "execution_count": 62,
   "id": "8e5c862f",
   "metadata": {},
   "outputs": [
    {
     "name": "stdout",
     "output_type": "stream",
     "text": [
      "\"rat deptrai\"\n"
     ]
    },
    {
     "data": {
      "text/plain": [
       "nil"
      ]
     },
     "execution_count": 62,
     "metadata": {},
     "output_type": "execute_result"
    }
   ],
   "source": [
    "(binding [ngoc \"rat deptrai\"]\n",
    "    (prn ngoc))"
   ]
  },
  {
   "cell_type": "code",
   "execution_count": 65,
   "id": "1bf8b7b7",
   "metadata": {},
   "outputs": [
    {
     "data": {
      "text/plain": [
       "{:outer-var-value 42, :with-locals {:local-var #<Var: --unnamed-->, :local-var-value 9}}"
      ]
     },
     "execution_count": 65,
     "metadata": {},
     "output_type": "execute_result"
    }
   ],
   "source": [
    "; we can also use with-local-vars\n",
    "(def x 42)\n",
    "{:outer-var-value x\n",
    " :with-locals (with-local-vars [x 9]\n",
    "                {:local-var x\n",
    "                 :local-var-value (var-get x)})}"
   ]
  }
 ],
 "metadata": {
  "kernelspec": {
   "display_name": "Clojure (clojupyter=0.3.2=1)",
   "language": "clojure",
   "name": "conda-clojupyter"
  },
  "language_info": {
   "file_extension": ".clj",
   "mimetype": "text/x-clojure",
   "name": "clojure",
   "version": "1.10.1"
  }
 },
 "nbformat": 4,
 "nbformat_minor": 5
}
