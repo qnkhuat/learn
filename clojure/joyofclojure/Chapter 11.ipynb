{
 "cells": [
  {
   "cell_type": "markdown",
   "id": "b982d535",
   "metadata": {},
   "source": [
    "# Parallelism"
   ]
  },
  {
   "cell_type": "markdown",
   "id": "5b46b1e5",
   "metadata": {},
   "source": [
    "## Future"
   ]
  },
  {
   "cell_type": "code",
   "execution_count": 4,
   "id": "f89158e5",
   "metadata": {},
   "outputs": [
    {
     "data": {
      "text/plain": [
       "nil"
      ]
     },
     "execution_count": 4,
     "metadata": {},
     "output_type": "execute_result"
    }
   ],
   "source": [
    "(ns joy.futures\n",
    "  (:require (clojure [xml :as xml]))\n",
    "  (:require (clojure [zip :as zip]))\n",
    "  (:import  (java.util.regex Pattern)))"
   ]
  },
  {
   "cell_type": "code",
   "execution_count": 5,
   "id": "b0962d30",
   "metadata": {},
   "outputs": [
    {
     "name": "stdout",
     "output_type": "stream",
     "text": [
      "\"Elapsed time: 3005.788292 msecs\"\n"
     ]
    },
    {
     "data": {
      "text/plain": [
       "[42 42]"
      ]
     },
     "execution_count": 5,
     "metadata": {},
     "output_type": "execute_result"
    }
   ],
   "source": [
    "; simple example\n",
    "(time (let [x (future \n",
    "                  (do (Thread/sleep 3000) (+ 41 1)))]\n",
    "          [@x @x]))"
   ]
  },
  {
   "cell_type": "code",
   "execution_count": 7,
   "id": "b50dbc39",
   "metadata": {},
   "outputs": [
    {
     "data": {
      "text/plain": [
       "#'joy.futures/feed->zipper"
      ]
     },
     "execution_count": 7,
     "metadata": {},
     "output_type": "execute_result"
    }
   ],
   "source": [
    "(defn feed->zipper [uri-str]\n",
    "    (->> (xml/parse uri-str)\n",
    "        zip/xml-zip))"
   ]
  },
  {
   "cell_type": "code",
   "execution_count": 8,
   "id": "fa87db9e",
   "metadata": {},
   "outputs": [
    {
     "data": {
      "text/plain": [
       "#'joy.futures/normalize"
      ]
     },
     "execution_count": 8,
     "metadata": {},
     "output_type": "execute_result"
    }
   ],
   "source": [
    "(defn normalize [feed]\n",
    "    (if (= :feed (:tag (first feed)))\n",
    "        feed\n",
    "        (zip/down feed)))"
   ]
  },
  {
   "cell_type": "code",
   "execution_count": 9,
   "id": "6645bda1",
   "metadata": {},
   "outputs": [
    {
     "data": {
      "text/plain": [
       "#'joy.futures/feed-children"
      ]
     },
     "execution_count": 9,
     "metadata": {},
     "output_type": "execute_result"
    }
   ],
   "source": [
    "(defn feed-children [uri-str]\n",
    "    (->> uri-str\n",
    "        feed->zipper\n",
    "        normalize\n",
    "        zip/children\n",
    "        (filter (comp #{:item :entry} :tag))))"
   ]
  },
  {
   "cell_type": "code",
   "execution_count": 10,
   "id": "6c8de4ff",
   "metadata": {},
   "outputs": [
    {
     "data": {
      "text/plain": [
       "#'joy.futures/title"
      ]
     },
     "execution_count": 10,
     "metadata": {},
     "output_type": "execute_result"
    }
   ],
   "source": [
    "(defn title [entry]\n",
    "    (some->> entry\n",
    "        :content\n",
    "        (some #(when (= :title (:tag %)) %))\n",
    "        :content\n",
    "        first))"
   ]
  },
  {
   "cell_type": "code",
   "execution_count": 13,
   "id": "5ae64085",
   "metadata": {},
   "outputs": [
    {
     "data": {
      "text/plain": [
       "#'joy.futures/count-text-task"
      ]
     },
     "execution_count": 13,
     "metadata": {},
     "output_type": "execute_result"
    }
   ],
   "source": [
    "(defn count-text-task [extractor txt feed]\n",
    "    (let [items (feed-children feed)\n",
    "          re    (Pattern/compile (str \"(?i)\" txt))]\n",
    "        (->> items\n",
    "        (map extractor)\n",
    "        (mapcat #(re-seq re %))\n",
    "        count)))"
   ]
  },
  {
   "cell_type": "code",
   "execution_count": 14,
   "id": "658d50aa",
   "metadata": {},
   "outputs": [
    {
     "data": {
      "text/plain": [
       "44"
      ]
     },
     "execution_count": 14,
     "metadata": {},
     "output_type": "execute_result"
    }
   ],
   "source": [
    "(count-text-task \n",
    " title\n",
    " \"Elixir\"\n",
    " \"http://feeds.feedburner.com/ElixirLang\")"
   ]
  },
  {
   "cell_type": "code",
   "execution_count": 15,
   "id": "ec1acecb",
   "metadata": {},
   "outputs": [
    {
     "data": {
      "text/plain": [
       "#'joy.futures/feeds"
      ]
     },
     "execution_count": 15,
     "metadata": {},
     "output_type": "execute_result"
    }
   ],
   "source": [
    "(def feeds #{\"http://feeds.feedburner.com/ElixirLang\" \n",
    "             \"http://blog.fogus.me/feed/\"})"
   ]
  },
  {
   "cell_type": "code",
   "execution_count": 18,
   "id": "b5fcc459",
   "metadata": {},
   "outputs": [
    {
     "data": {
      "text/plain": [
       "44"
      ]
     },
     "execution_count": 18,
     "metadata": {},
     "output_type": "execute_result"
    }
   ],
   "source": [
    "(let [results (for [feed feeds]\n",
    "                  (future\n",
    "                      (count-text-task title \"Elixir\" feed)))]\n",
    "    (reduce + (map deref results)))"
   ]
  },
  {
   "cell_type": "code",
   "execution_count": 22,
   "id": "1c468f6d",
   "metadata": {},
   "outputs": [
    {
     "data": {
      "text/plain": [
       "#'joy.futures/as-futures"
      ]
     },
     "execution_count": 22,
     "metadata": {},
     "output_type": "execute_result"
    }
   ],
   "source": [
    "(defmacro as-futures [[a args] & body]\n",
    "    (let [parts          (partition-by #{'=>} body)\n",
    "          [acts _ [res]] (partition-by #{:as} (first parts))\n",
    "           [_ _ task]     parts]\n",
    "        `(let [~res (for [~a ~args] (future  ~@acts))]\n",
    "             ~@task)))\n",
    "\n",
    "\n",
    ";(as-futures [<arg-name> <all-args>]\n",
    ";  <actions-using-args>\n",
    ";  :as <results-name>\n",
    ";  =>\n",
    ";  <actions-using-results>)\n"
   ]
  },
  {
   "cell_type": "code",
   "execution_count": 21,
   "id": "83ff9562",
   "metadata": {},
   "outputs": [
    {
     "data": {
      "text/plain": [
       "#'joy.futures/occurrences"
      ]
     },
     "execution_count": 21,
     "metadata": {},
     "output_type": "execute_result"
    }
   ],
   "source": [
    "(defn occurrences [extractor tag & feeds]\n",
    "    (as-futures [feed feeds]\n",
    "                (count-text-task extractor tag feed)\n",
    "                :as results\n",
    "                =>\n",
    "                (reduce + (map deref results))))"
   ]
  },
  {
   "cell_type": "code",
   "execution_count": 23,
   "id": "3e4124a1",
   "metadata": {},
   "outputs": [
    {
     "data": {
      "text/plain": [
       "31"
      ]
     },
     "execution_count": 23,
     "metadata": {},
     "output_type": "execute_result"
    }
   ],
   "source": [
    "(occurrences title \"released\"\n",
    "  \"http://blog.fogus.me/feed/\"\n",
    "  \"http://feeds.feedburner.com/ElixirLang\"\n",
    "  \"http://www.ruby-lang.org/en/feeds/news.rss\")"
   ]
  },
  {
   "cell_type": "markdown",
   "id": "8eb57d50",
   "metadata": {},
   "source": [
    "## Promise"
   ]
  },
  {
   "cell_type": "code",
   "execution_count": 26,
   "id": "8f61424c",
   "metadata": {},
   "outputs": [
    {
     "data": {
      "text/plain": [
       "#promise[{:status :pending, :val nil} 0x411273c6]"
      ]
     },
     "execution_count": 26,
     "metadata": {},
     "output_type": "execute_result"
    }
   ],
   "source": [
    "(def x (promise))\n",
    "(def y (promise))\n",
    "(def z (promise))\n",
    "x"
   ]
  },
  {
   "cell_type": "code",
   "execution_count": 29,
   "id": "54d0e62f",
   "metadata": {},
   "outputs": [
    {
     "data": {
      "text/plain": [
       "3"
      ]
     },
     "execution_count": 29,
     "metadata": {},
     "output_type": "execute_result"
    }
   ],
   "source": [
    "(deliver x 5)\n",
    "@x"
   ]
  },
  {
   "cell_type": "code",
   "execution_count": 32,
   "id": "6c97b50a",
   "metadata": {},
   "outputs": [
    {
     "data": {
      "text/plain": [
       "3"
      ]
     },
     "execution_count": 32,
     "metadata": {},
     "output_type": "execute_result"
    }
   ],
   "source": [
    "; @y this is a blocking call until the y is deliver\n",
    "(do (Thread/sleep 1000) (deliver y 3))\n",
    "@y"
   ]
  },
  {
   "cell_type": "code",
   "execution_count": 37,
   "id": "0ea64fd3",
   "metadata": {},
   "outputs": [
    {
     "data": {
      "text/plain": [
       "#promise[{:status :ready, :val 3} 0x411273c6]"
      ]
     },
     "execution_count": 37,
     "metadata": {},
     "output_type": "execute_result"
    }
   ],
   "source": [
    "(deliver x 6)\n",
    "x; it'll not change value bc it's already delivered"
   ]
  },
  {
   "cell_type": "code",
   "execution_count": 36,
   "id": "0a0dd569",
   "metadata": {},
   "outputs": [
    {
     "name": "stderr",
     "output_type": "stream",
     "text": [
      "Execution error (ClassCastException) at joy.futures/eval5682 (REPL:1).\n",
      "clojure.core$promise$reify__8501 cannot be cast to clojure.lang.IAtom\n"
     ]
    },
    {
     "ename": "class java.lang.ClassCastException",
     "evalue": "",
     "execution_count": 36,
     "output_type": "error",
     "status": "error",
     "traceback": [
      "            Thread.java:   850 java.lang.Thread/stop  ",
      "   nrepl_middleware.clj:    13 clojupyter.kernel.nrepl_middleware$mime_values$fn__25596/invoke",
      "               core.clj:  2030 clojure.core$binding_conveyor_fn$fn__5754/invoke",
      "               AFn.java:    18 clojure.lang.AFn/call  ",
      "        FutureTask.java:   266 java.util.concurrent.FutureTask/run",
      "ThreadPoolExecutor.java:  1142 java.util.concurrent.ThreadPoolExecutor/runWorker",
      "ThreadPoolExecutor.java:   617 java.util.concurrent.ThreadPoolExecutor$Worker/run",
      "            Thread.java:   745 java.lang.Thread/run   "
     ]
    }
   ],
   "source": [
    "(reset! x 6)"
   ]
  },
  {
   "cell_type": "markdown",
   "id": "1a024a79",
   "metadata": {},
   "source": [
    "## Pmap, pcall "
   ]
  },
  {
   "cell_type": "code",
   "execution_count": 40,
   "id": "c845139d",
   "metadata": {},
   "outputs": [
    {
     "name": "stdout",
     "output_type": "stream",
     "text": [
      "\"done\"\n"
     ]
    },
    {
     "data": {
      "text/plain": [
       "nil"
      ]
     },
     "execution_count": 40,
     "metadata": {},
     "output_type": "execute_result"
    }
   ],
   "source": [
    "(defn sleeper [s thing] (Thread/sleep (* 1000 s)) thing)\n",
    "(sleeper 2 (prn \"done\"))"
   ]
  },
  {
   "cell_type": "code",
   "execution_count": 42,
   "id": "996cb655",
   "metadata": {},
   "outputs": [
    {
     "name": "stdout",
     "output_type": "stream",
     "text": [
      "\"Elapsed time: 1.135583 msecs\"\n"
     ]
    },
    {
     "data": {
      "text/plain": [
       "(2 3 4)"
      ]
     },
     "execution_count": 42,
     "metadata": {},
     "output_type": "execute_result"
    }
   ],
   "source": [
    "(->> [1 2 3]\n",
    "     (pmap (comp inc (partial sleeper 2)))\n",
    "     doall\n",
    "     time)"
   ]
  },
  {
   "cell_type": "code",
   "execution_count": 43,
   "id": "c8178b37",
   "metadata": {},
   "outputs": [
    {
     "name": "stdout",
     "output_type": "stream",
     "text": [
      "\"Elapsed time: 3007.429375 msecs\"\n"
     ]
    },
    {
     "data": {
      "text/plain": [
       "(:first :second :3rd)"
      ]
     },
     "execution_count": 43,
     "metadata": {},
     "output_type": "execute_result"
    }
   ],
   "source": [
    "(-> (pcalls\n",
    "      #(sleeper 2 :first)\n",
    "      #(sleeper 3 :second)\n",
    "      #(keyword \"3rd\"))\n",
    "    doall\n",
    "    time)"
   ]
  },
  {
   "cell_type": "markdown",
   "id": "69728b5e",
   "metadata": {},
   "source": [
    "## reducer / fold"
   ]
  },
  {
   "cell_type": "code",
   "execution_count": 67,
   "id": "b283b367",
   "metadata": {},
   "outputs": [
    {
     "data": {
      "text/plain": [
       "#'joy.futures/big-vec"
      ]
     },
     "execution_count": 67,
     "metadata": {},
     "output_type": "execute_result"
    }
   ],
   "source": [
    "(require '[clojure.core.reducers :as r])\n",
    "(def big-vec (vec (range (* 20000 1000))))"
   ]
  },
  {
   "cell_type": "code",
   "execution_count": 68,
   "id": "726494d2",
   "metadata": {},
   "outputs": [
    {
     "name": "stdout",
     "output_type": "stream",
     "text": [
      "\"Elapsed time: 1823.102 msecs\"\n"
     ]
    },
    {
     "data": {
      "text/plain": [
       "199999990000000"
      ]
     },
     "execution_count": 68,
     "metadata": {},
     "output_type": "execute_result"
    }
   ],
   "source": [
    "(time (reduce + big-vec))"
   ]
  },
  {
   "cell_type": "code",
   "execution_count": 69,
   "id": "9d7bcbda",
   "metadata": {},
   "outputs": [
    {
     "name": "stdout",
     "output_type": "stream",
     "text": [
      "\"Elapsed time: 182.029834 msecs\"\n"
     ]
    },
    {
     "data": {
      "text/plain": [
       "199999990000000"
      ]
     },
     "execution_count": 69,
     "metadata": {},
     "output_type": "execute_result"
    }
   ],
   "source": [
    "(time (r/fold + big-vec))"
   ]
  },
  {
   "cell_type": "code",
   "execution_count": 61,
   "id": "e3362a39",
   "metadata": {},
   "outputs": [
    {
     "data": {},
     "execution_count": 61,
     "metadata": {},
     "output_type": "execute_result"
    }
   ],
   "source": [
    "; the reduce is guaranateed to be run in order\n",
    "; whereas r/fold is not\n",
    "; or you can say that r/fold parallieize the work and reduce does not"
   ]
  },
  {
   "cell_type": "code",
   "execution_count": null,
   "id": "aedc9f70",
   "metadata": {},
   "outputs": [],
   "source": []
  }
 ],
 "metadata": {
  "kernelspec": {
   "display_name": "Clojure (clojupyter=0.3.2=1)",
   "language": "clojure",
   "name": "conda-clojupyter"
  },
  "language_info": {
   "file_extension": ".clj",
   "mimetype": "text/x-clojure",
   "name": "clojure",
   "version": "1.10.1"
  }
 },
 "nbformat": 4,
 "nbformat_minor": 5
}
