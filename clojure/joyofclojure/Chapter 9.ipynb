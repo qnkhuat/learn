{
 "cells": [
  {
   "cell_type": "markdown",
   "id": "ceb93219",
   "metadata": {},
   "source": [
    "# Combining data and code"
   ]
  },
  {
   "cell_type": "code",
   "execution_count": 1,
   "id": "2d32df43",
   "metadata": {},
   "outputs": [
    {
     "data": {
      "text/plain": [
       "nil"
      ]
     },
     "execution_count": 1,
     "metadata": {},
     "output_type": "execute_result"
    }
   ],
   "source": [
    "(ns joy.udp\n",
    "  (:refer-clojure :exclude [get]))"
   ]
  },
  {
   "cell_type": "markdown",
   "id": "a0023f0e",
   "metadata": {},
   "source": [
    "# UDP (Universal Design Pattern)"
   ]
  },
  {
   "cell_type": "code",
   "execution_count": 2,
   "id": "83502a73",
   "metadata": {},
   "outputs": [
    {
     "data": {
      "text/plain": [
       "#'joy.udp/beget"
      ]
     },
     "execution_count": 2,
     "metadata": {},
     "output_type": "execute_result"
    }
   ],
   "source": [
    "(defn beget [this proto]\n",
    "    (assoc this ::prototype proto))"
   ]
  },
  {
   "cell_type": "code",
   "execution_count": 3,
   "id": "4abd18c4",
   "metadata": {},
   "outputs": [
    {
     "data": {
      "text/plain": [
       "#'joy.udp/get"
      ]
     },
     "execution_count": 3,
     "metadata": {},
     "output_type": "execute_result"
    }
   ],
   "source": [
    "(defn get [m k]\n",
    "    (when m\n",
    "        (if-let [[_ v] (find m k)]\n",
    "            v\n",
    "            (recur (::prototype m) k))))"
   ]
  },
  {
   "cell_type": "code",
   "execution_count": 4,
   "id": "88ebfcd4",
   "metadata": {},
   "outputs": [
    {
     "data": {
      "text/plain": [
       "#'joy.udp/put"
      ]
     },
     "execution_count": 4,
     "metadata": {},
     "output_type": "execute_result"
    }
   ],
   "source": [
    "(def put assoc)"
   ]
  },
  {
   "cell_type": "markdown",
   "id": "bda24f8b",
   "metadata": {},
   "source": [
    "## Basic usages"
   ]
  },
  {
   "cell_type": "code",
   "execution_count": 5,
   "id": "804c13de",
   "metadata": {},
   "outputs": [
    {
     "name": "stderr",
     "output_type": "stream",
     "text": [
      "WARNING: cat already refers to: #'clojure.core/cat in namespace: joy.udp, being replaced by: #'joy.udp/cat\n"
     ]
    },
    {
     "data": {
      "text/plain": [
       "#'joy.udp/post-traumatic-morris"
      ]
     },
     "execution_count": 5,
     "metadata": {},
     "output_type": "execute_result"
    }
   ],
   "source": [
    "(def cat {:likes-dogs true, :ocd-bathing true})\n",
    "(def morris (beget {:likes-9lives true} cat))\n",
    "(def post-traumatic-morris (beget {:likes-dogs nil} morris))\n"
   ]
  },
  {
   "cell_type": "code",
   "execution_count": 6,
   "id": "9ec27ae4",
   "metadata": {},
   "outputs": [
    {
     "data": {
      "text/plain": [
       "true"
      ]
     },
     "execution_count": 6,
     "metadata": {},
     "output_type": "execute_result"
    }
   ],
   "source": [
    "(get cat :likes-dogs)"
   ]
  },
  {
   "cell_type": "code",
   "execution_count": 7,
   "id": "31b5b007",
   "metadata": {},
   "outputs": [
    {
     "data": {
      "text/plain": [
       "true"
      ]
     },
     "execution_count": 7,
     "metadata": {},
     "output_type": "execute_result"
    }
   ],
   "source": [
    "(get morris :likes-dogs)"
   ]
  },
  {
   "cell_type": "code",
   "execution_count": 8,
   "id": "827b676b",
   "metadata": {},
   "outputs": [
    {
     "data": {
      "text/plain": [
       "nil"
      ]
     },
     "execution_count": 8,
     "metadata": {},
     "output_type": "execute_result"
    }
   ],
   "source": [
    "(get post-traumatic-morris :likes-dogs)"
   ]
  },
  {
   "cell_type": "markdown",
   "id": "c12b4dd1",
   "metadata": {},
   "source": [
    "# Multimethods"
   ]
  },
  {
   "cell_type": "code",
   "execution_count": 9,
   "id": "6bf92744",
   "metadata": {},
   "outputs": [
    {
     "data": {
      "text/plain": [
       "#multifn[compiler 0x71af3797]"
      ]
     },
     "execution_count": 9,
     "metadata": {},
     "output_type": "execute_result"
    }
   ],
   "source": [
    "(defmulti compiler :os)\n",
    "(defmethod compiler ::unix [m] (get m :c-compiler))\n",
    "(defmethod compiler ::osx  [m] (get m :llvm-compiler))"
   ]
  },
  {
   "cell_type": "code",
   "execution_count": 10,
   "id": "50ea1840",
   "metadata": {},
   "outputs": [
    {
     "data": {
      "text/plain": [
       "#'joy.udp/osx"
      ]
     },
     "execution_count": 10,
     "metadata": {},
     "output_type": "execute_result"
    }
   ],
   "source": [
    "(def clone (partial beget {}))\n",
    "(def unix {:os ::unix, :c-compiler \"cc\", :home \"/home\", :dev \"/dev\"})\n",
    "(def osx (-> (clone unix)\n",
    "              (put :os ::osx)\n",
    "              (put :llvm-compiler \"clang\")\n",
    "              (put :home \"/Users\")))"
   ]
  },
  {
   "cell_type": "code",
   "execution_count": 11,
   "id": "78b733b9",
   "metadata": {},
   "outputs": [
    {
     "data": {
      "text/plain": [
       "{:os :joy.udp/unix, :c-compiler \"cc\", :home \"/home\", :dev \"/dev\"}"
      ]
     },
     "execution_count": 11,
     "metadata": {},
     "output_type": "execute_result"
    }
   ],
   "source": [
    "unix"
   ]
  },
  {
   "cell_type": "code",
   "execution_count": 12,
   "id": "9f35d4e5",
   "metadata": {},
   "outputs": [
    {
     "data": {
      "text/plain": [
       "{:joy.udp/prototype {:os :joy.udp/unix, :c-compiler \"cc\", :home \"/home\", :dev \"/dev\"}, :os :joy.udp/osx, :llvm-compiler \"clang\", :home \"/Users\"}"
      ]
     },
     "execution_count": 12,
     "metadata": {},
     "output_type": "execute_result"
    }
   ],
   "source": [
    "osx"
   ]
  },
  {
   "cell_type": "code",
   "execution_count": 13,
   "id": "a3c1e443",
   "metadata": {},
   "outputs": [
    {
     "data": {
      "text/plain": [
       "\"cc\""
      ]
     },
     "execution_count": 13,
     "metadata": {},
     "output_type": "execute_result"
    }
   ],
   "source": [
    "(compiler unix)"
   ]
  },
  {
   "cell_type": "code",
   "execution_count": 14,
   "id": "3f794b4b",
   "metadata": {},
   "outputs": [
    {
     "data": {
      "text/plain": [
       "\"clang\""
      ]
     },
     "execution_count": 14,
     "metadata": {},
     "output_type": "execute_result"
    }
   ],
   "source": [
    "(compiler osx)"
   ]
  },
  {
   "cell_type": "code",
   "execution_count": 15,
   "id": "65142a50",
   "metadata": {},
   "outputs": [
    {
     "data": {
      "text/plain": [
       "#multifn[home 0x56ce26f2]"
      ]
     },
     "execution_count": 15,
     "metadata": {},
     "output_type": "execute_result"
    }
   ],
   "source": [
    "(defmulti home :os)\n",
    "(defmethod home ::unix [m] (get m :home))"
   ]
  },
  {
   "cell_type": "code",
   "execution_count": 16,
   "id": "21312d88",
   "metadata": {},
   "outputs": [
    {
     "data": {
      "text/plain": [
       "\"/home\""
      ]
     },
     "execution_count": 16,
     "metadata": {},
     "output_type": "execute_result"
    }
   ],
   "source": [
    "(home unix)"
   ]
  },
  {
   "cell_type": "code",
   "execution_count": 17,
   "id": "93c0c905",
   "metadata": {},
   "outputs": [
    {
     "name": "stderr",
     "output_type": "stream",
     "text": [
      "Execution error (IllegalArgumentException) at joy.udp/eval4144 (REPL:1).\n",
      "No method in multimethod 'home' for dispatch value: :joy.udp/osx\n"
     ]
    },
    {
     "ename": "class java.lang.IllegalArgumentException",
     "evalue": "",
     "execution_count": 17,
     "output_type": "error",
     "status": "error",
     "traceback": [
      "MultiFn.java:   156 clojure.lang.MultiFn/getFn",
      "MultiFn.java:   229 clojure.lang.MultiFn/invoke",
      "    core.clj:  3214 clojure.core$eval/invokeStatic",
      "    core.clj:  3210 clojure.core$eval/invoke",
      "    main.clj:   437 clojure.main$repl$read_eval_print__9086$fn__9089/invoke",
      "    main.clj:   458 clojure.main$repl$fn__9095/invoke",
      "    main.clj:   368 clojure.main$repl/doInvoke",
      " RestFn.java:  1523 clojure.lang.RestFn/invoke",
      "    AFn.java:    22 clojure.lang.AFn/run",
      "    AFn.java:    22 clojure.lang.AFn/run",
      " Thread.java:   745 java.lang.Thread/run"
     ]
    }
   ],
   "source": [
    "(home osx)"
   ]
  },
  {
   "cell_type": "code",
   "execution_count": 18,
   "id": "2a38fd62",
   "metadata": {},
   "outputs": [
    {
     "data": {
      "text/plain": [
       "nil"
      ]
     },
     "execution_count": 18,
     "metadata": {},
     "output_type": "execute_result"
    }
   ],
   "source": [
    "; define unix is the parent of osx, \n",
    "; then we can call home on osx in which it will attempt to get from parenent\n",
    "(derive ::osx ::unix)"
   ]
  },
  {
   "cell_type": "code",
   "execution_count": 19,
   "id": "45d0eb44",
   "metadata": {},
   "outputs": [
    {
     "data": {
      "text/plain": [
       "\"/Users\""
      ]
     },
     "execution_count": 19,
     "metadata": {},
     "output_type": "execute_result"
    }
   ],
   "source": [
    "(home osx)"
   ]
  },
  {
   "cell_type": "code",
   "execution_count": 20,
   "id": "abd89639",
   "metadata": {},
   "outputs": [
    {
     "data": {
      "text/plain": [
       "true"
      ]
     },
     "execution_count": 20,
     "metadata": {},
     "output_type": "execute_result"
    }
   ],
   "source": [
    "(isa? ::osx ::unix)"
   ]
  },
  {
   "cell_type": "code",
   "execution_count": 21,
   "id": "a6eabb6f",
   "metadata": {},
   "outputs": [
    {
     "data": {
      "text/plain": [
       "#multifn[home 0x56ce26f2]"
      ]
     },
     "execution_count": 21,
     "metadata": {},
     "output_type": "execute_result"
    }
   ],
   "source": [
    "; what if osx has t parents?\n",
    "(derive ::osx ::bsd)\n",
    "(defmethod home ::bsd [m] \"/home\")"
   ]
  },
  {
   "cell_type": "code",
   "execution_count": 22,
   "id": "7a81b66e",
   "metadata": {},
   "outputs": [
    {
     "name": "stderr",
     "output_type": "stream",
     "text": [
      "Execution error (IllegalArgumentException) at joy.udp/eval4158 (REPL:1).\n",
      "Multiple methods in multimethod 'home' match dispatch value: :joy.udp/osx -> :joy.udp/bsd and :joy.udp/unix, and neither is preferred\n"
     ]
    },
    {
     "ename": "class java.lang.IllegalArgumentException",
     "evalue": "",
     "execution_count": 22,
     "output_type": "error",
     "status": "error",
     "traceback": [
      "MultiFn.java:   179 clojure.lang.MultiFn/findAndCacheBestMethod",
      "MultiFn.java:   150 clojure.lang.MultiFn/getMethod",
      "MultiFn.java:   154 clojure.lang.MultiFn/getFn",
      "MultiFn.java:   229 clojure.lang.MultiFn/invoke",
      "    core.clj:  3214 clojure.core$eval/invokeStatic",
      "    core.clj:  3210 clojure.core$eval/invoke",
      "    main.clj:   437 clojure.main$repl$read_eval_print__9086$fn__9089/invoke",
      "    main.clj:   458 clojure.main$repl$fn__9095/invoke",
      "    main.clj:   368 clojure.main$repl/doInvoke",
      " RestFn.java:  1523 clojure.lang.RestFn/invoke",
      "    AFn.java:    22 clojure.lang.AFn/run",
      "    AFn.java:    22 clojure.lang.AFn/run",
      " Thread.java:   745 java.lang.Thread/run"
     ]
    }
   ],
   "source": [
    "(home osx)"
   ]
  },
  {
   "cell_type": "code",
   "execution_count": 23,
   "id": "3e9079bf",
   "metadata": {},
   "outputs": [
    {
     "data": {
      "text/plain": [
       "\"/Users\""
      ]
     },
     "execution_count": 23,
     "metadata": {},
     "output_type": "execute_result"
    }
   ],
   "source": [
    "(prefer-method home ::unix ::bsd)\n",
    "(home osx)"
   ]
  },
  {
   "cell_type": "code",
   "execution_count": 24,
   "id": "98bf9e72",
   "metadata": {},
   "outputs": [
    {
     "data": {
      "text/plain": [
       "\"/Users\""
      ]
     },
     "execution_count": 24,
     "metadata": {},
     "output_type": "execute_result"
    }
   ],
   "source": [
    "(remove-method home ::bsd)\n",
    "(home osx)"
   ]
  },
  {
   "cell_type": "markdown",
   "id": "90dced59",
   "metadata": {},
   "source": [
    "## Arbitrary dispatch"
   ]
  },
  {
   "cell_type": "code",
   "execution_count": 25,
   "id": "d973f347",
   "metadata": {},
   "outputs": [
    {
     "data": {
      "text/plain": [
       "#'joy.udp/compile-cmd"
      ]
     },
     "execution_count": 25,
     "metadata": {},
     "output_type": "execute_result"
    }
   ],
   "source": [
    "(defmulti compile-cmd  (juxt :os compiler))"
   ]
  },
  {
   "cell_type": "code",
   "execution_count": 26,
   "id": "012e7b8b",
   "metadata": {},
   "outputs": [
    {
     "data": {
      "text/plain": [
       "#multifn[compile-cmd 0x1b94ca4a]"
      ]
     },
     "execution_count": 26,
     "metadata": {},
     "output_type": "execute_result"
    }
   ],
   "source": [
    "(defmethod compile-cmd [::osx \"clang\"] [m] ; compiler call (juxt :os compiler) needd to return exactly ::osx \"gcc\"\n",
    "  (str \"/usr/bin/\" (get m :c-compiler)))\n",
    "\n",
    "(defmethod compile-cmd :default [m]\n",
    "  (str \"Unsure where to locate \" (get m :c-compiler)))"
   ]
  },
  {
   "cell_type": "code",
   "execution_count": 27,
   "id": "a3d3b8fe",
   "metadata": {},
   "outputs": [
    {
     "data": {
      "text/plain": [
       "\"/usr/bin/cc\""
      ]
     },
     "execution_count": 27,
     "metadata": {},
     "output_type": "execute_result"
    }
   ],
   "source": [
    "(compile-cmd osx)"
   ]
  },
  {
   "cell_type": "code",
   "execution_count": 28,
   "id": "f3fb1eae",
   "metadata": {},
   "outputs": [
    {
     "data": {
      "text/plain": [
       "\"Unsure where to locate cc\""
      ]
     },
     "execution_count": 28,
     "metadata": {},
     "output_type": "execute_result"
    }
   ],
   "source": [
    "(compile-cmd unix)"
   ]
  },
  {
   "cell_type": "markdown",
   "id": "2f5fb2fd",
   "metadata": {},
   "source": [
    "# Records"
   ]
  },
  {
   "cell_type": "code",
   "execution_count": 29,
   "id": "64b3dadc",
   "metadata": {},
   "outputs": [
    {
     "data": {
      "text/plain": [
       "joy.udp.TreeNode"
      ]
     },
     "execution_count": 29,
     "metadata": {},
     "output_type": "execute_result"
    }
   ],
   "source": [
    "(defrecord TreeNode [val l r])\n",
    "; This creates a new Java class with a constructor that takes a value for each of the fields"
   ]
  },
  {
   "cell_type": "code",
   "execution_count": 30,
   "id": "e1cd15de",
   "metadata": {},
   "outputs": [
    {
     "data": {
      "text/plain": [
       "#joy.udp.TreeNode{:val 5, :l nil, :r nil}"
      ]
     },
     "execution_count": 30,
     "metadata": {},
     "output_type": "execute_result"
    }
   ],
   "source": [
    "(def tree (TreeNode. 5 nil nil))\n",
    "tree"
   ]
  },
  {
   "cell_type": "code",
   "execution_count": 31,
   "id": "5b57de9b",
   "metadata": {
    "tags": []
   },
   "outputs": [
    {
     "data": {
      "text/plain": [
       "5"
      ]
     },
     "execution_count": 31,
     "metadata": {},
     "output_type": "execute_result"
    }
   ],
   "source": [
    "(:val tree)"
   ]
  },
  {
   "cell_type": "code",
   "execution_count": 32,
   "id": "b27e031e",
   "metadata": {},
   "outputs": [
    {
     "data": {
      "text/plain": [
       "#'joy.udp/xconj"
      ]
     },
     "execution_count": 32,
     "metadata": {},
     "output_type": "execute_result"
    }
   ],
   "source": [
    "(defn xconj [t v] \n",
    "    (cond\n",
    "        (nil? t)       (TreeNode. v nil nil)\n",
    "        (< v (:val t)) (TreeNode. (:val t) (xconj (:l t) v) (:r t))\n",
    "        :else          (TreeNode. (:val t) (:l t) (xconj (:r t) v))))"
   ]
  },
  {
   "cell_type": "code",
   "execution_count": 33,
   "id": "82b7fec6",
   "metadata": {},
   "outputs": [
    {
     "data": {
      "text/plain": [
       "#'joy.udp/sample-tree"
      ]
     },
     "execution_count": 33,
     "metadata": {},
     "output_type": "execute_result"
    }
   ],
   "source": [
    "(def sample-tree (reduce xconj nil [3 5 2 4 6]))"
   ]
  },
  {
   "cell_type": "markdown",
   "id": "a0365c4c",
   "metadata": {},
   "source": [
    "# Protocols\n",
    "think of it like interface in go lang"
   ]
  },
  {
   "cell_type": "code",
   "execution_count": 34,
   "id": "2f84952b",
   "metadata": {},
   "outputs": [
    {
     "data": {
      "text/plain": [
       "FIXO"
      ]
     },
     "execution_count": 34,
     "metadata": {},
     "output_type": "execute_result"
    }
   ],
   "source": [
    "(defprotocol FIXO\n",
    "      (fixo-push [fixo value])\n",
    "      (fixo-pop [fixo])\n",
    "      (fixo-peek [fixo]))"
   ]
  },
  {
   "cell_type": "code",
   "execution_count": 35,
   "id": "821d4e3e",
   "metadata": {},
   "outputs": [
    {
     "data": {
      "text/plain": [
       "#joy.udp.TreeNode{:val 3, :l #joy.udp.TreeNode{:val 2, :l nil, :r #joy.udp.TreeNode{:val 5/2, :l nil, :r nil}}, :r #joy.udp.TreeNode{:val 5, :l #joy.udp.TreeNode{:val 4, :l nil, :r nil}, :r #joy.udp.TreeNode{:val 6, :l nil, :r nil}}}"
      ]
     },
     "execution_count": 35,
     "metadata": {},
     "output_type": "execute_result"
    }
   ],
   "source": [
    "(extend-type TreeNode\n",
    "  FIXO\n",
    "  (fixo-push [node value]\n",
    "    (xconj node value)))\n",
    "\n",
    "(fixo-push sample-tree 5/2)"
   ]
  },
  {
   "cell_type": "code",
   "execution_count": 36,
   "id": "cc81feb1",
   "metadata": {},
   "outputs": [
    {
     "data": {
      "text/plain": [
       "[2 3 4 5 6 5/2]"
      ]
     },
     "execution_count": 36,
     "metadata": {},
     "output_type": "execute_result"
    }
   ],
   "source": [
    "(extend-type clojure.lang.IPersistentVector\n",
    "      FIXO\n",
    "      (fixo-push [vector value]\n",
    "        (conj vector value)))\n",
    "(fixo-push [2 3 4 5 6] 5/2)"
   ]
  },
  {
   "cell_type": "markdown",
   "id": "30d3f605",
   "metadata": {},
   "source": [
    "## Retify\n",
    "retify is a more powerful way to do extend"
   ]
  },
  {
   "cell_type": "code",
   "execution_count": 37,
   "id": "eae93a3c",
   "metadata": {},
   "outputs": [
    {
     "data": {
      "text/plain": [
       "#'joy.udp/fixed-fixo"
      ]
     },
     "execution_count": 37,
     "metadata": {},
     "output_type": "execute_result"
    }
   ],
   "source": [
    "; a stack-like FIXO that’s constrained to a certain fixed size\n",
    "(defn fixed-fixo\n",
    "  ([limit] (fixed-fixo limit []))\n",
    "  ([limit vector]\n",
    "    (reify FIXO\n",
    "      (fixo-push [this value]\n",
    "        (if (< (count vector) limit)\n",
    "          (fixed-fixo limit (conj vector value))\n",
    "          this))\n",
    "      (fixo-peek [_]\n",
    "        (peek vector))\n",
    "      (fixo-pop [_]\n",
    "        (pop vector)))))"
   ]
  },
  {
   "cell_type": "markdown",
   "id": "e07e2b4f",
   "metadata": {},
   "source": [
    "## deftype"
   ]
  },
  {
   "cell_type": "code",
   "execution_count": 38,
   "id": "8369a4b5",
   "metadata": {},
   "outputs": [
    {
     "name": "stderr",
     "output_type": "stream",
     "text": [
      "Syntax error (ClassFormatError) compiling deftype* at (REPL:4:1).\n",
      "Duplicate method name \"seq\" with signature \"()Lclojure.lang.ISeq;\" in class file joy/udp/InfiniteConstant\n"
     ]
    },
    {
     "ename": "class clojure.lang.Compiler$CompilerException",
     "evalue": "",
     "execution_count": 38,
     "output_type": "error",
     "status": "error",
     "traceback": [
      "       ClassLoader.java:    -2 java.lang.ClassLoader/defineClass1",
      "       ClassLoader.java:   763 java.lang.ClassLoader/defineClass",
      "DynamicClassLoader.java:    46 clojure.lang.DynamicClassLoader/defineClass",
      "               core.clj:  3214 clojure.core$eval/invokeStatic",
      "               core.clj:  3210 clojure.core$eval/invoke",
      "               main.clj:   437 clojure.main$repl$read_eval_print__9086$fn__9089/invoke",
      "               main.clj:   458 clojure.main$repl$fn__9095/invoke",
      "               main.clj:   368 clojure.main$repl/doInvoke",
      "            RestFn.java:  1523 clojure.lang.RestFn/invoke",
      "               AFn.java:    22 clojure.lang.AFn/run   ",
      "               AFn.java:    22 clojure.lang.AFn/run   ",
      "            Thread.java:   745 java.lang.Thread/run   "
     ]
    }
   ],
   "source": [
    "; For example if you want to implement the seq method for a type\n",
    "; You can do it with record but you'll have to implement all the methods\n",
    "\n",
    "(defrecord InfiniteConstant [i]\n",
    "  clojure.lang.ISeq\n",
    "  (seq [this]\n",
    "    (lazy-seq (cons i (seq this)))))\n",
    "\n",
    "; This is because record types are maps and implement everything maps should—seq along with assoc, dissoc, get, and so forth. \n",
    "; Because these are provided for you, you can’t implement them again yourself, and thus the preceding exception"
   ]
  },
  {
   "cell_type": "code",
   "execution_count": 39,
   "id": "9d08d1f2",
   "metadata": {},
   "outputs": [
    {
     "data": {
      "text/plain": [
       "joy.udp.InfiniteConstant"
      ]
     },
     "execution_count": 39,
     "metadata": {},
     "output_type": "execute_result"
    }
   ],
   "source": [
    "; Clojure provides a lower-level deftype construct that’s similar to defrecord but doesn’t implement anything at all, \n",
    "; so implementing seq won’t conflict with anything\n",
    "(deftype InfiniteConstant [i]\n",
    "  clojure.lang.ISeq\n",
    "  (seq [this]\n",
    "    (lazy-seq (cons i (seq this)))))\n"
   ]
  },
  {
   "cell_type": "code",
   "execution_count": 41,
   "id": "f6694d04",
   "metadata": {},
   "outputs": [
    {
     "data": {
      "text/plain": [
       "(5 5 5)"
      ]
     },
     "execution_count": 41,
     "metadata": {},
     "output_type": "execute_result"
    }
   ],
   "source": [
    "(take 3 (InfiniteConstant. 5))"
   ]
  },
  {
   "cell_type": "markdown",
   "id": "2d9ade97",
   "metadata": {},
   "source": [
    "# Chess"
   ]
  },
  {
   "cell_type": "code",
   "execution_count": 42,
   "id": "9f1c1da3",
   "metadata": {},
   "outputs": [
    {
     "data": {
      "text/plain": [
       "#'joy.udp/build-move"
      ]
     },
     "execution_count": 42,
     "metadata": {},
     "output_type": "execute_result"
    }
   ],
   "source": [
    "(defn build-move [& pieces]\n",
    "    (apply hash-map pieces))"
   ]
  },
  {
   "cell_type": "code",
   "execution_count": 43,
   "id": "a3eea82c",
   "metadata": {},
   "outputs": [
    {
     "data": {
      "text/plain": [
       "{:from \"e7\", :promotion \\Q, :to \"e8\"}"
      ]
     },
     "execution_count": 43,
     "metadata": {},
     "output_type": "execute_result"
    }
   ],
   "source": [
    "(build-move :from \"e7\" :to \"e8\" :promotion \\Q)"
   ]
  },
  {
   "cell_type": "code",
   "execution_count": 45,
   "id": "bce5f1e7",
   "metadata": {},
   "outputs": [
    {
     "data": {
      "text/plain": [
       "joy.udp.Move"
      ]
     },
     "execution_count": 45,
     "metadata": {},
     "output_type": "execute_result"
    }
   ],
   "source": [
    "(defrecord Move [from to castle? promotion]\n",
    "    Object\n",
    "    (toString [this]\n",
    "              (str \"Move \" (:from this)\n",
    "                   \" to \" (:to this)\n",
    "                   (if (:castle? this) \" castle\"\n",
    "                       (if-let [p (:promotion this)]\n",
    "                           (str \" promote to \" p) \"\")))))"
   ]
  },
  {
   "cell_type": "code",
   "execution_count": 46,
   "id": "5e617383",
   "metadata": {},
   "outputs": [
    {
     "data": {
      "text/plain": [
       "\"Move e2 to e4\""
      ]
     },
     "execution_count": 46,
     "metadata": {},
     "output_type": "execute_result"
    }
   ],
   "source": [
    "(str (Move. \"e2\" \"e4\" nil nil))"
   ]
  },
  {
   "cell_type": "code",
   "execution_count": 48,
   "id": "0c18f308",
   "metadata": {},
   "outputs": [
    {
     "data": {
      "text/plain": [
       "#'joy.udp/build-move"
      ]
     },
     "execution_count": 48,
     "metadata": {},
     "output_type": "execute_result"
    }
   ],
   "source": [
    "(defn build-move [& {:keys [from to castle? promotion]}]\n",
    "  {:pre [from to]}\n",
    "  (Move. from to castle? promotion))"
   ]
  },
  {
   "cell_type": "code",
   "execution_count": 49,
   "id": "89753120",
   "metadata": {},
   "outputs": [
    {
     "data": {
      "text/plain": [
       "\"Move e2 to e4\""
      ]
     },
     "execution_count": 49,
     "metadata": {},
     "output_type": "execute_result"
    }
   ],
   "source": [
    "(str (build-move :from \"e2\" :to \"e4\"))"
   ]
  },
  {
   "cell_type": "code",
   "execution_count": null,
   "id": "2f61707d",
   "metadata": {},
   "outputs": [],
   "source": []
  },
  {
   "cell_type": "code",
   "execution_count": null,
   "id": "6e1d91c8",
   "metadata": {},
   "outputs": [],
   "source": []
  },
  {
   "cell_type": "code",
   "execution_count": null,
   "id": "75e3e2f6",
   "metadata": {},
   "outputs": [],
   "source": []
  },
  {
   "cell_type": "code",
   "execution_count": null,
   "id": "08244cdf",
   "metadata": {},
   "outputs": [],
   "source": []
  }
 ],
 "metadata": {
  "kernelspec": {
   "display_name": "Clojure (clojupyter=0.3.2=1)",
   "language": "clojure",
   "name": "conda-clojupyter"
  },
  "language_info": {
   "file_extension": ".clj",
   "mimetype": "text/x-clojure",
   "name": "clojure",
   "version": "1.10.1"
  }
 },
 "nbformat": 4,
 "nbformat_minor": 5
}
