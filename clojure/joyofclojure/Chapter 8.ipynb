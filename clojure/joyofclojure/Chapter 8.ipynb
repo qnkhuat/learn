{
 "cells": [
  {
   "cell_type": "markdown",
   "id": "6517f5eb",
   "metadata": {},
   "source": [
    "## Data is code, code is data"
   ]
  },
  {
   "cell_type": "code",
   "execution_count": 37,
   "id": "39523ee2",
   "metadata": {},
   "outputs": [
    {
     "data": {
      "text/plain": [
       "nil"
      ]
     },
     "execution_count": 37,
     "metadata": {},
     "output_type": "execute_result"
    }
   ],
   "source": [
    "(require '[clojure.walk :as walk])"
   ]
  },
  {
   "cell_type": "code",
   "execution_count": 16,
   "id": "37f1ff67",
   "metadata": {},
   "outputs": [
    {
     "data": {
      "text/plain": [
       "3"
      ]
     },
     "execution_count": 16,
     "metadata": {},
     "output_type": "execute_result"
    }
   ],
   "source": [
    "(eval `(+ 1 2))"
   ]
  },
  {
   "cell_type": "code",
   "execution_count": 8,
   "id": "e3dfae3d",
   "metadata": {},
   "outputs": [
    {
     "data": {
      "text/plain": [
       "3"
      ]
     },
     "execution_count": 8,
     "metadata": {},
     "output_type": "execute_result"
    }
   ],
   "source": [
    "(eval (list (symbol \"+\") 1 2))"
   ]
  },
  {
   "cell_type": "code",
   "execution_count": 29,
   "id": "8b398b7a",
   "metadata": {},
   "outputs": [
    {
     "data": {
      "text/plain": [
       "#'user/do-until"
      ]
     },
     "execution_count": 29,
     "metadata": {},
     "output_type": "execute_result"
    }
   ],
   "source": [
    "(defmacro do-until [& clauses]\n",
    "    (when clauses\n",
    "        (list 'clojure.core/when (first clauses)\n",
    "              (if (next clauses)\n",
    "                  (second clauses)\n",
    "                  (throw (IllegalAccessException. \"do-until requries an even number of forms\")))\n",
    "              (cons 'do-until (nnext clauses)))))"
   ]
  },
  {
   "cell_type": "code",
   "execution_count": 30,
   "id": "1d2925c8",
   "metadata": {},
   "outputs": [
    {
     "name": "stdout",
     "output_type": "stream",
     "text": [
      "Even\n",
      "Odd\n"
     ]
    },
    {
     "data": {
      "text/plain": [
       "nil"
      ]
     },
     "execution_count": 30,
     "metadata": {},
     "output_type": "execute_result"
    }
   ],
   "source": [
    "(do-until\n",
    "  (even? 2) (println \"Even\")\n",
    "  (odd?  3) (println \"Odd\")\n",
    "  (zero? 1) (println \"You never see me\")\n",
    "  :lollipop (println \"Truthy thing\"))"
   ]
  },
  {
   "cell_type": "code",
   "execution_count": 38,
   "id": "fcaabc1d",
   "metadata": {},
   "outputs": [
    {
     "data": {
      "text/plain": [
       "(if (even? 2) (do (println \"Even\") (if (odd? 3) (do (println \"Odd\") (if (zero? 1) (do (println \"You never see me\") (if :lollipop (do (println \"Truthy thing\") nil))))))))"
      ]
     },
     "execution_count": 38,
     "metadata": {},
     "output_type": "execute_result"
    }
   ],
   "source": [
    "(walk/macroexpand-all '(do-until\n",
    "  (even? 2) (println \"Even\")\n",
    "  (odd?  3) (println \"Odd\")\n",
    "  (zero? 1) (println \"You never see me\")\n",
    "  :lollipop (println \"Truthy thing\")))"
   ]
  },
  {
   "cell_type": "code",
   "execution_count": 102,
   "id": "68c551c9",
   "metadata": {},
   "outputs": [
    {
     "data": {
      "text/plain": [
       "(clojure.core/list 3 2 3)"
      ]
     },
     "execution_count": 102,
     "metadata": {},
     "output_type": "execute_result"
    }
   ],
   "source": [
    "`(list ~(+ 1 2) 2 3)"
   ]
  },
  {
   "cell_type": "code",
   "execution_count": 138,
   "id": "03ed39a5",
   "metadata": {},
   "outputs": [
    {
     "data": {
      "text/plain": [
       "#'user/unless"
      ]
     },
     "execution_count": 138,
     "metadata": {},
     "output_type": "execute_result"
    }
   ],
   "source": [
    "(defmacro unless [pred & action]\n",
    "    `(if (not ~pred)\n",
    "         (do ~@action)))"
   ]
  },
  {
   "cell_type": "code",
   "execution_count": 139,
   "id": "afdcce1c",
   "metadata": {},
   "outputs": [
    {
     "data": {
      "text/plain": [
       "\"Now we see it...\""
      ]
     },
     "execution_count": 139,
     "metadata": {},
     "output_type": "execute_result"
    }
   ],
   "source": [
    "(unless (even? 3) \"Now we see it...\")"
   ]
  },
  {
   "cell_type": "code",
   "execution_count": 140,
   "id": "71b9363a",
   "metadata": {},
   "outputs": [
    {
     "data": {
      "text/plain": [
       "nil"
      ]
     },
     "execution_count": 140,
     "metadata": {},
     "output_type": "execute_result"
    }
   ],
   "source": [
    "(unless (even? 2) \"Now we don't.\")"
   ]
  },
  {
   "cell_type": "code",
   "execution_count": 141,
   "id": "115726d2",
   "metadata": {},
   "outputs": [
    {
     "data": {
      "text/plain": [
       "(if (clojure.core/not (even? 2)) (do \"now we see it\"))"
      ]
     },
     "execution_count": 141,
     "metadata": {},
     "output_type": "execute_result"
    }
   ],
   "source": [
    "(macroexpand-1 '(unless (even? 2) \"now we see it\"))"
   ]
  },
  {
   "cell_type": "code",
   "execution_count": 142,
   "id": "76cb76a7",
   "metadata": {},
   "outputs": [
    {
     "data": {
      "text/plain": [
       "(if (clojure.core/not (even? 3)) (do \"now we see it\"))"
      ]
     },
     "execution_count": 142,
     "metadata": {},
     "output_type": "execute_result"
    }
   ],
   "source": [
    "(macroexpand-1 '(unless (even? 3) \"now we see it\"))"
   ]
  },
  {
   "cell_type": "code",
   "execution_count": 144,
   "id": "5ff3d5a3",
   "metadata": {},
   "outputs": [
    {
     "data": {
      "text/plain": [
       "(domain man-vs-monster (grouping people (Human \"A stock human\") (Man (isa Human) \"A man, baby\" [name] [has-beard?])) (grouping monsters (Chupacabra \"A fierce, yet elusive creature\" [eats-goats?])))"
      ]
     },
     "execution_count": 144,
     "metadata": {},
     "output_type": "execute_result"
    }
   ],
   "source": [
    "'(domain man-vs-monster\n",
    "  (grouping people\n",
    "    (Human \"A stock human\")\n",
    "    (Man (isa Human)\n",
    "        \"A man, baby\"\n",
    "      [name]\n",
    "      [has-beard?]))\n",
    "  (grouping monsters\n",
    "    (Chupacabra\n",
    "      \"A fierce, yet elusive creature\"\n",
    "      [eats-goats?])))"
   ]
  },
  {
   "cell_type": "code",
   "execution_count": 143,
   "id": "a33b5396",
   "metadata": {},
   "outputs": [
    {
     "data": {
      "text/plain": [
       "#'user/domain"
      ]
     },
     "execution_count": 143,
     "metadata": {},
     "output_type": "execute_result"
    }
   ],
   "source": [
    "(defmacro domain [name & body]\n",
    "    `{:tag :doman,\n",
    "      :attrs {:name (str '~name)},\n",
    "      :content [~@body]})"
   ]
  },
  {
   "cell_type": "code",
   "execution_count": 148,
   "id": "edb97da2",
   "metadata": {},
   "outputs": [
    {
     "data": {
      "text/plain": [
       "#'user/grok-props"
      ]
     },
     "execution_count": 148,
     "metadata": {},
     "output_type": "execute_result"
    }
   ],
   "source": [
    "(defn grok-attrs [attrs]\n",
    "  (into {:name (str (first attrs))}\n",
    "        (for [a (rest attrs)]\n",
    "          (cond\n",
    "            (list? a) [:isa (str (second a))]\n",
    "            (string? a) [:comment a]))))\n",
    "(defn grok-props [props]\n",
    "  (when props\n",
    "    {:tag :properties, :attrs nil,\n",
    "     :content (apply vector (for [p props]\n",
    "                 {:tag :property,\n",
    "                  :attrs {:name (str (first p))},\n",
    "                  :content nil}))}))\n"
   ]
  },
  {
   "cell_type": "code",
   "execution_count": 149,
   "id": "6179d290",
   "metadata": {},
   "outputs": [
    {
     "data": {
      "text/plain": [
       "#'user/handle-things"
      ]
     },
     "execution_count": 149,
     "metadata": {},
     "output_type": "execute_result"
    }
   ],
   "source": [
    "(defn handle-things [things]\n",
    "    (for [t things]\n",
    "        {:tag :thing,\n",
    "         :attrs (grok-attrs (take-while (comp not vector?) t))\n",
    "         :content (if-let [c (grok-props (drop-while (comp not vector?) t))]\n",
    "                      [c]\n",
    "                      [])}))"
   ]
  },
  {
   "cell_type": "code",
   "execution_count": 145,
   "id": "acbb1b4a",
   "metadata": {},
   "outputs": [
    {
     "name": "stderr",
     "output_type": "stream",
     "text": [
      "Syntax error compiling at (REPL:4:19).\n",
      "Unable to resolve symbol: handle-things in this context\n"
     ]
    },
    {
     "ename": "class clojure.lang.Compiler$CompilerException",
     "evalue": "",
     "execution_count": 145,
     "output_type": "error",
     "status": "error",
     "traceback": [
      "  Util.java:   221 clojure.lang.Util/runtimeException",
      "   core.clj:  3214 clojure.core$eval/invokeStatic",
      "   core.clj:  3210 clojure.core$eval/invoke",
      "   main.clj:   437 clojure.main$repl$read_eval_print__9086$fn__9089/invoke",
      "   main.clj:   458 clojure.main$repl$fn__9095/invoke",
      "   main.clj:   368 clojure.main$repl/doInvoke",
      "RestFn.java:  1523 clojure.lang.RestFn/invoke",
      "   AFn.java:    22 clojure.lang.AFn/run",
      "   AFn.java:    22 clojure.lang.AFn/run",
      "Thread.java:   745 java.lang.Thread/run"
     ]
    }
   ],
   "source": [
    "(defmacro grouping [name & body]\n",
    "    `{:tag :grouping,\n",
    "      :attrs {:name (str '~name)},\n",
    "      :content [~@(handle-things body)]})"
   ]
  },
  {
   "cell_type": "code",
   "execution_count": null,
   "id": "57e17379",
   "metadata": {},
   "outputs": [],
   "source": []
  },
  {
   "cell_type": "code",
   "execution_count": null,
   "id": "259b4f72",
   "metadata": {},
   "outputs": [],
   "source": []
  },
  {
   "cell_type": "code",
   "execution_count": null,
   "id": "8dfc001b",
   "metadata": {},
   "outputs": [],
   "source": []
  },
  {
   "cell_type": "code",
   "execution_count": 157,
   "id": "6e0be08d",
   "metadata": {},
   "outputs": [
    {
     "data": {
      "text/plain": [
       "#'user/x"
      ]
     },
     "execution_count": 157,
     "metadata": {},
     "output_type": "execute_result"
    }
   ],
   "source": [
    "(def x 3)"
   ]
  },
  {
   "cell_type": "code",
   "execution_count": 158,
   "id": "7c5a3845",
   "metadata": {},
   "outputs": [
    {
     "data": {
      "text/plain": [
       "x"
      ]
     },
     "execution_count": 158,
     "metadata": {},
     "output_type": "execute_result"
    }
   ],
   "source": [
    "`~'x"
   ]
  },
  {
   "cell_type": "code",
   "execution_count": 163,
   "id": "25c52b10",
   "metadata": {},
   "outputs": [
    {
     "data": {
      "text/plain": [
       "#'user/p"
      ]
     },
     "execution_count": 163,
     "metadata": {},
     "output_type": "execute_result"
    }
   ],
   "source": [
    "(defmacro p []\n",
    "    `(prn ~'x))"
   ]
  },
  {
   "cell_type": "code",
   "execution_count": 164,
   "id": "efaf8db2",
   "metadata": {},
   "outputs": [
    {
     "name": "stdout",
     "output_type": "stream",
     "text": [
      "3\n"
     ]
    },
    {
     "data": {
      "text/plain": [
       "nil"
      ]
     },
     "execution_count": 164,
     "metadata": {},
     "output_type": "execute_result"
    }
   ],
   "source": [
    "(p)"
   ]
  },
  {
   "cell_type": "code",
   "execution_count": 165,
   "id": "11b6775c",
   "metadata": {},
   "outputs": [
    {
     "data": {
      "text/plain": [
       "#'user/contract"
      ]
     },
     "execution_count": 165,
     "metadata": {},
     "output_type": "execute_result"
    }
   ],
   "source": [
    "(declare collect-bodies)\n",
    "(defmacro contract [name & forms]\n",
    "  (list* `fn name (collect-bodies forms)))"
   ]
  },
  {
   "cell_type": "code",
   "execution_count": null,
   "id": "1489c8ea",
   "metadata": {},
   "outputs": [],
   "source": []
  },
  {
   "cell_type": "code",
   "execution_count": 160,
   "id": "52d2e641",
   "metadata": {},
   "outputs": [
    {
     "name": "stdout",
     "output_type": "stream",
     "text": [
      "3\n"
     ]
    },
    {
     "data": {
      "text/plain": [
       "nil"
      ]
     },
     "execution_count": 160,
     "metadata": {},
     "output_type": "execute_result"
    }
   ],
   "source": [
    "(p)"
   ]
  },
  {
   "cell_type": "code",
   "execution_count": null,
   "id": "4f344c71",
   "metadata": {},
   "outputs": [],
   "source": []
  },
  {
   "cell_type": "code",
   "execution_count": null,
   "id": "255a71c3",
   "metadata": {},
   "outputs": [],
   "source": []
  },
  {
   "cell_type": "code",
   "execution_count": null,
   "id": "a2509cca",
   "metadata": {},
   "outputs": [],
   "source": []
  },
  {
   "cell_type": "code",
   "execution_count": null,
   "id": "a852b5b7",
   "metadata": {},
   "outputs": [],
   "source": []
  },
  {
   "cell_type": "code",
   "execution_count": null,
   "id": "26db44dd",
   "metadata": {},
   "outputs": [],
   "source": []
  }
 ],
 "metadata": {
  "kernelspec": {
   "display_name": "Clojure (clojupyter=0.3.2=1)",
   "language": "clojure",
   "name": "conda-clojupyter"
  },
  "language_info": {
   "file_extension": ".clj",
   "mimetype": "text/x-clojure",
   "name": "clojure",
   "version": "1.10.1"
  }
 },
 "nbformat": 4,
 "nbformat_minor": 5
}
